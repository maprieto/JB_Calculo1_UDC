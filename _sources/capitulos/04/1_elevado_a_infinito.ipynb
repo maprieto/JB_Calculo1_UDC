{
 "cells": [
  {
   "cell_type": "markdown",
   "metadata": {},
   "source": [
    "# EJERCICIO: Calcula el siguiente límite: $\\;\\; \\displaystyle\\lim_{x\\to 0}\\left({\\cos(3x)}^{\\frac{1}{x^2}}\\right)$.\n"
   ]
  },
  {
   "cell_type": "markdown",
   "metadata": {},
   "source": [
    "## Solución:"
   ]
  },
  {
   "cell_type": "markdown",
   "metadata": {},
   "source": [
    "En primer lugar, intentamos una sustitución directa:\n",
    "\n",
    "$$\n",
    "\\lim_{x\\to 0}\\left({\\cos(3x)}^{\\frac{1}{x^2}}\\right) = \\cos(0)^{+\\infty} = 1^{+\\infty} = \\text{Indeterminado}.\n",
    "$$\n",
    "\n",
    "Estamos ante una indeterminación del tipo $1^{\\infty}$. Para resolverla tenemos que hacer *saltar* el exponente, y eso se conigue con un logaritmo (neperiano, por supuesto).\n",
    "\n",
    "$$\n",
    "L=\\lim_{x\\to 0}\\left({\\cos(3x)}^{\\frac{1}{x^2}}\\right) \\Rightarrow \n",
    "\\ln L = \\ln \\left[\\lim_{x\\to 0}\\left({\\cos(3x)}^{\\frac{1}{x^2}}\\right)\\right].\n",
    "$$\n",
    "\n",
    "Utilizamos ahora que, al ser el logaritmo neperiano una función continua en su dominio, conmuta con el límite. Entonces:\n",
    "\n",
    "$$\n",
    "\\ln L =\n",
    "\\lim_{x\\to 0}\\left[\\ln\\left({\\cos(3x)}^{\\frac{1}{x^2}}\\right)\\right] =\n",
    "\\lim_{x\\to 0}\\frac{1}{x^2}\\ln\\left({\\cos(3x)}\\right).\n",
    "$$\n",
    "\n",
    "Vamos a resolver este límite, que ahora ya es una indeterminación del tipo 0.$(\\infty)$:\n",
    "\n",
    "\\begin{align*}\n",
    "\\ln L &=& \\lim_{x\\to 0}\\frac{1}{x^2}\\ln\\left({\\cos(3x)}\\right) = \n",
    "\\lim_{x\\to 0}\\frac{\\ln\\left({\\cos(3x)}\\right)}{x^2} = \\frac{\\ln 1}{0} = \\frac{0}{0} = \\text{Ind} \\\\\n",
    "\\vphantom{lim}\\\\\n",
    "&\\stackrel{\\stackrel{\\color{blue}{\\text{l'Hopital}}}{\\downarrow}}{=}& \n",
    "\\lim_{x\\to 0}\\frac{\\frac{1}{\\cos(3x)}\\left(-\\sin(3x)\\right)3}{2x}=\n",
    "-\\frac{3}{2}\\lim_{x\\to 0}\\frac{\\sin(3x)}{x\\cos(3x)} = \\frac{0}{0} = \\text{Ind} \\\\\n",
    "\\vphantom{lim}\\\\\n",
    "&\\stackrel{\\stackrel{\\color{blue}{\\text{l'Hopital}}}{\\downarrow}}{=}& \n",
    "-\\frac{3}{2}\\lim_{x\\to 0}\\frac{3\\cos(3x)}{\\cos(3x)-3x\\sin(3x)}0-\\frac{3}{2}\\frac{3}{1-0} = -\\frac{9}{2}.\n",
    "\\end{align*}\n",
    "\n",
    "De donde obtenemos, finalmente, que,\n",
    "\n",
    "$$\n",
    "\\ln L = -\\frac{9}{2} \\Rightarrow L = e^{-\\frac{9}{2}} = \\frac{1}{e^{\\frac{9}{2}}} = \\frac{1}{\\sqrt{e^9}}\n",
    "= \\frac{1}{e^4\\sqrt{e}} = \\frac{\\sqrt{e}}{e^5}.\n",
    "$$"
   ]
  },
  {
   "cell_type": "markdown",
   "metadata": {},
   "source": [
    "### Vamos a comprobar nuestros cálculos utilizando *python* y, en concreto, su librería *sympy*:"
   ]
  },
  {
   "cell_type": "code",
   "execution_count": 1,
   "metadata": {
    "scrolled": true
   },
   "outputs": [
    {
     "name": "stdout",
     "output_type": "stream",
     "text": [
      "f(x) =  cos(3*x)**(x**(-2))\n",
      "L =  exp(-9/2)\n"
     ]
    }
   ],
   "source": [
    "import sympy as sp\n",
    "\n",
    "x = sp.Symbol('x', real=True) \n",
    "\n",
    "expr = sp.cos(3*x)**(1/x/x)\n",
    "print('f(x) = ',expr)\n",
    "\n",
    "L = sp.limit(expr,x,0)\n",
    "print('L = ',L)"
   ]
  },
  {
   "cell_type": "markdown",
   "metadata": {},
   "source": [
    "### Ahora vamos a dibujar la gráfica de la función utilizando *numpy* y *matplotlib*. Fijémonos en el valor de $f$ en el $0$, que es el límite que hemos estado calculando."
   ]
  },
  {
   "cell_type": "code",
   "execution_count": 2,
   "metadata": {},
   "outputs": [
    {
     "data": {
      "image/png": "[encoded data removed]",
      "text/plain": [
       "<Figure size 432x288 with 1 Axes>"
      ]
     },
     "metadata": {
      "needs_background": "light"
     },
     "output_type": "display_data"
    }
   ],
   "source": [
    "# importamos los módulos numpy y pyplot\n",
    "import numpy as np\n",
    "import matplotlib.pyplot as plt\n",
    "\n",
    "x = np.linspace(-0.49, 0.49)\n",
    "y1 = np.cos(3*x)**(1/x/x)\n",
    "\n",
    "# plot\n",
    "fig = plt.figure()\n",
    "ax  = fig.add_subplot(111)\n",
    "ax.plot(x, y1, c='b', label=r'$\\cos(3x)^{\\frac{1}{x^2}}$',linewidth=3.0)\n",
    "\n",
    "plt.axhline(y=np.exp(-9/2), xmin=-0.49, xmax=1.0, label=r'$\\frac{\\sqrt{e}}{e^5}$', color='r', linestyle='--')\n",
    "\n",
    "leg = plt.legend(loc=\"upper right\")\n",
    "\n",
    "plt.grid()\n",
    "plt.show()"
   ]
  }
 ],
 "metadata": {
  "kernelspec": {
   "display_name": "Python 3",
   "language": "python",
   "name": "python3"
  },
  "language_info": {
   "codemirror_mode": {
    "name": "ipython",
    "version": 3
   },
   "file_extension": ".py",
   "mimetype": "text/x-python",
   "name": "python",
   "nbconvert_exporter": "python",
   "pygments_lexer": "ipython3",
   "version": "3.9.5"
  }
 },
 "nbformat": 4,
 "nbformat_minor": 2
}
