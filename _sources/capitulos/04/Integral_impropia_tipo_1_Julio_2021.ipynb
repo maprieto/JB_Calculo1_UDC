{
 "cells": [
  {
   "cell_type": "markdown",
   "metadata": {},
   "source": [
    "## **EJERCICIO 17, examen Julio 2021:**  \n",
    "\n",
    "### Se considera la función $f(x)=\\frac{\\ln x}{x^4}$. Calcula el área que encierra la gráfica de esta función y el eje OX en el intervalo $[1,+\\infty]$."
   ]
  },
  {
   "cell_type": "markdown",
   "metadata": {},
   "source": [
    "**Solución:**"
   ]
  },
  {
   "cell_type": "code",
   "execution_count": 3,
   "metadata": {},
   "outputs": [
    {
     "name": "stdout",
     "output_type": "stream",
     "text": [
      "Primitiva para f:  -log(x)/(3*x**3) - 1/(9*x**3)\n",
      "Integral en [1,M]:  1/9 - log(M)/(3*M**3) - 1/(9*M**3)\n",
      "Límite cuando M tiende a infinito:  1/9\n"
     ]
    }
   ],
   "source": [
    "import sympy as sp\n",
    "from sympy import oo\n",
    "\n",
    "x = sp.Symbol('x', real=True) \n",
    "M = sp.Symbol('M', real=True) \n",
    "\n",
    "# Calculamos una primitiva de f \n",
    "f_expr = sp.ln(x)/x**4\n",
    "F_expr = sp.integrate(f_expr,x) # esto es una expresión\n",
    "print('Primitiva para f: ', F_expr)\n",
    "\n",
    "F = sp.Lambda((x),F_expr) # convertimos la expresión anterior en una función Lambda\n",
    "\n",
    "# Aplicamos Barrow en el intervalo [1,M]\n",
    "print('Integral en [1,M]: ', F(M)-F(1))\n",
    "\n",
    "#Finalmente, hacemos que M tienda a infinito (oo, en la notación de sympy)\n",
    "print('Límite cuando M tiende a infinito: ', sp.limit(F(M)-F(1), M, oo))"
   ]
  },
  {
   "cell_type": "code",
   "execution_count": 4,
   "metadata": {},
   "outputs": [
    {
     "data": {
      "image/png": "[encoded data removed]",
      "text/plain": [
       "<Figure size 432x288 with 1 Axes>"
      ]
     },
     "metadata": {
      "needs_background": "light"
     },
     "output_type": "display_data"
    }
   ],
   "source": [
    "# importamos los módulos numpy y pyplot\n",
    "import numpy as np\n",
    "import matplotlib.pyplot as plt\n",
    "\n",
    "# Damos valores de x para evaluar las funciones \n",
    "x = np.linspace(1, 10)\n",
    "\n",
    "#Calculamos las 2 funciones (f y su primitiva, F) en los puntos de x\n",
    "# y1 = F(x)\n",
    "y1 = np.log(x)/x**4\n",
    "y2 = -np.log(x)/(3*x**3) - 1/(9*x**3)\n",
    "y3 = 1/9 - np.log(x)/(3*x**3) - 1/(9*x**3)\n",
    "\n",
    "# plot\n",
    "fig = plt.figure()\n",
    "ax  = fig.add_subplot(111)\n",
    "ax.plot(x, y1, c='b', label=r'$f(x)$',linewidth=3.0)\n",
    "ax.plot(x, y2, c='r', label=r'$F(x)$',linewidth=3.0)\n",
    "ax.plot(x, y3, c='g', label=r'$F(M)-F(1)$',linewidth=3.0)\n",
    "\n",
    "# plt.ylim(-100,500)\n",
    "leg = plt.legend()\n",
    "\n",
    "plt.grid()\n",
    "plt.show()"
   ]
  }
 ],
 "metadata": {
  "kernelspec": {
   "display_name": "Python 3.9.12 ('base')",
   "language": "python",
   "name": "python3"
  },
  "language_info": {
   "codemirror_mode": {
    "name": "ipython",
    "version": 3
   },
   "file_extension": ".py",
   "mimetype": "text/x-python",
   "name": "python",
   "nbconvert_exporter": "python",
   "pygments_lexer": "ipython3",
   "version": "3.9.12"
  },
  "vscode": {
   "interpreter": {
    "hash": "4253bf17849ddc6b6e8c6b6b1c64951bcfcb143729dea15b0d22aeda669b2aa2"
   }
  }
 },
 "nbformat": 4,
 "nbformat_minor": 2
}
