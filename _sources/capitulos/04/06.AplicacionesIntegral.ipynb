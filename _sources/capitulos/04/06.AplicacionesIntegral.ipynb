{
 "cells": [
  {
   "cell_type": "markdown",
   "id": "d8d14713",
   "metadata": {},
   "source": [
    "# Aplicaciones de la integral"
   ]
  }
 ],
 "metadata": {
  "kernelspec": {
   "display_name": "Python 3.10.8 64-bit (microsoft store)",
   "language": "python",
   "name": "python3"
  },
  "language_info": {
   "codemirror_mode": {
    "name": "ipython",
    "version": 3
   },
   "file_extension": ".py",
   "mimetype": "text/x-python",
   "name": "python",
   "nbconvert_exporter": "python",
   "pygments_lexer": "ipython3",
   "version": "3.10.8"
  },
  "vscode": {
   "interpreter": {
    "hash": "f2c0f1c90395c109e1b87b1f4d6d2ea9e1b09c8587e65b0565fcfbe20df05a54"
   }
  }
 },
 "nbformat": 4,
 "nbformat_minor": 5
}
