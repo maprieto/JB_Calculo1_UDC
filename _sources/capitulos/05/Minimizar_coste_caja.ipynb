{
 "cells": [
  {
   "cell_type": "markdown",
   "metadata": {},
   "source": [
    "# EJERCICIO minimización: "
   ]
  },
  {
   "cell_type": "markdown",
   "metadata": {},
   "source": [
    "Se desea construir una caja de base cuadrada, con tapa y con una capacidad de 80 dm$^3$. Para la tapa y la superficie lateral se quiere utilizar un material que cuesta 2€/dm$^2$ y para la base otro que cuesta 3€/dm$^2$. Calcula las dimensiones de la caja para que su costo sea mínimo."
   ]
  },
  {
   "cell_type": "markdown",
   "metadata": {},
   "source": [
    "**Nota:** Este ejercicio cayó en la ABAU (prueba de acceso a la universidad) de Galicia en el año 2017. Aquí podéis consultar el examen completo:\n",
    "\n",
    "https://ciug.gal/PDF/examesabauanosanteriores/probas/2017/ABAU_2017_MatematicasII.pdf"
   ]
  },
  {
   "cell_type": "markdown",
   "metadata": {},
   "source": [
    "**Solución:**"
   ]
  },
  {
   "cell_type": "markdown",
   "metadata": {},
   "source": [
    "Tenemos entonces una caja de base cuadrada, con longitud $x$, y altura $h$, como mostramos en la siguiente figura:"
   ]
  },
  {
   "cell_type": "markdown",
   "metadata": {},
   "source": [
    "<img src=\"../../images/hexaedro2.png\" width=\"300\"/>"
   ]
  },
  {
   "cell_type": "markdown",
   "metadata": {},
   "source": [
    "Vamos a fijar la restricción. \n",
    "Nos dicen que el volumen debe ser igual a 80 dm$^3$, entonces:\n",
    "\n",
    "$$\n",
    "V = x^2 h \\Longrightarrow 80 = x^2 h \\Longrightarrow h = \\frac{80}{x^2}.\n",
    "$$\n",
    "\n",
    "El enunciado nos dice que usamos un material que cuesta 2 €/dm$^2$ para la tapa y para cada una de las 4 paredes laterales y otro material (entendemos que más duro...) que cuesta 3 €/dm$^2$ para la base. Entonces, si llamamos $C$ al coste en material de la caja:\n",
    "\n",
    "\\begin{align*}\n",
    "C(x,h) & = \\left( x^2 + 4xh\\right) 2 + 3 x^2 \\\\\n",
    "& \\stackrel{\\stackrel{\\color{blue}{h = \\frac{80}{x^2}}}{\\downarrow}}{\\Longrightarrow}\n",
    "C(x) = \\left( x^2 + 4x\\frac{80}{x^2}\\right) 2 + 3x^2 \\Longrightarrow\n",
    "C(x) = 5x^2 + \\frac{640}{x}, \\quad x\\in (0,+\\infty).\n",
    "\\end{align*}\n",
    "\n",
    "Fijémonos que, como la variable está en el abierto $(0,+\\infty)$, no se cumplen las hipótesis del Teorema de Weierstrass. \n",
    "**Eso no quiere decir que no exista mínimo absoluto**, simplemente que el teorema no lo garantiza y que tendremos que intentar demostrar que existe de otra manera. "
   ]
  },
  {
   "cell_type": "markdown",
   "metadata": {},
   "source": [
    "Entonces, si existe mínimo absoluto de esta función, ¿dónde puede estar? \n",
    "Fijémonos que, en $(0,+\\infty)$ es una función continua y derivable, por lo que si tiene mínimos absolutos estarán o bien en los límites del intervalo, o bien en los puntos en los que la derivada valga $0$. ¡Vamos a explorar estar opciones!\n",
    "\n",
    "\\begin{align*}\n",
    "& \\lim_{x\\to 0^+} C(x) = \\lim_{x\\to 0^+} \\left(5x^2 + \\frac{640}{x}\\right) = 0 + \\infty = +\\infty, \\\\\n",
    "& \\lim_{x\\to +\\infty} C(x) = \\lim_{x\\to +\\infty} \\left(5x^2 + \\frac{640}{x}\\right) = + \\infty + 0 = +\\infty. \\\\\n",
    "& C'(x) = 10x - \\frac{640}{x^2} \\Longrightarrow \\left[ C'(x) = 0 \\Leftrightarrow 10x - \\frac{640}{x^2} = 0 \\Leftrightarrow x = 4 \\right] \n",
    "\\end{align*}\n",
    "\n",
    "Ahora miramos lo que pasa en $x=4$, para ello usaremos el criterio de la segunda derivada, aunque valdría perfectamente el de la primera derivada. Entonces:\n",
    "$$\n",
    "C''(x) = 10 + \\frac{1280}{x^3} \\Longrightarrow C''(4) = 30 >0,\n",
    "$$\n",
    "por lo que ya sabemos que en $x=4$ habrá un mínimo relativo. Este mínimo relativo será absoluto ya que hemos visto que en los extremos la función coste, $C(x)$, tiende a $+\\infty$.\n",
    "\n",
    "Por lo tanto, **la respuesta al ejercicio es:\n",
    "$x=4$ dm, $h=\\dfrac{80}{4^2}=5$ dm.**\n",
    "\n",
    "Vamos ahora a hacer esos mismos cálculos con la ayuda de Python y a graficar la función:"
   ]
  },
  {
   "cell_type": "code",
   "execution_count": 8,
   "metadata": {},
   "outputs": [
    {
     "name": "stdout",
     "output_type": "stream",
     "text": [
      "C(x) =  5*x**2 + 640/x\n",
      "diff(C)(x) =  10*x - 640/x**2\n",
      "a =  4\n",
      "Derivada segunda de C en a:  30\n"
     ]
    }
   ],
   "source": [
    "import sympy as sp\n",
    "x = sp.Symbol('x', real=True) \n",
    "\n",
    "# Definimos C con una expresión simbólica\n",
    "expr = 5*x**2 + 640/x\n",
    "print('C(x) = ',expr)\n",
    "print('diff(C)(x) = ', sp.diff(expr, x))\n",
    "\n",
    "# Calculamos los puntos criticos de C resolviendo la ecuacion diff(C) = 0\n",
    "pto_critico = sp.solve(sp.diff(expr, x), x)\n",
    "\n",
    "# Extraemos a como la primera (0, en Python) solucion de la ecuacion anterior (podría haber muchas soluciones)\n",
    "a = pto_critico[0]\n",
    "print('a = ',a)\n",
    "\n",
    "# Evaluamos la derivada segunda en a\n",
    "print('Derivada segunda de C en a: ', sp.diff(expr, x, 2).subs(x,a))"
   ]
  },
  {
   "cell_type": "code",
   "execution_count": 9,
   "metadata": {},
   "outputs": [
    {
     "data": {
      "image/png": "[encoded data removed]",
      "text/plain": [
       "<Figure size 432x288 with 1 Axes>"
      ]
     },
     "metadata": {
      "needs_background": "light"
     },
     "output_type": "display_data"
    }
   ],
   "source": [
    "# importamos los módulos numpy y pyplot\n",
    "import numpy as np\n",
    "import matplotlib.pyplot as plt\n",
    "\n",
    "# Damos valores de x para evaluar las funciones \n",
    "x = np.linspace(0.2, 10)\n",
    "\n",
    "#Calculamos las 2 funciones (C y su derivada) en los puntos de x\n",
    "y1 = 5*(x**2) + 640/x\n",
    "y2 = 10*x - 640/(x**2)\n",
    "\n",
    "# plot\n",
    "fig = plt.figure()\n",
    "ax  = fig.add_subplot(111)\n",
    "ax.plot(x, y1, c='b', label=r'$C(x)$',linewidth=3.0)\n",
    "ax.plot(x, y2, c='r', label=r'$diff(C)(x)$',linewidth=3.0)\n",
    "\n",
    "plt.ylim(-100,500)\n",
    "leg = plt.legend()\n",
    "\n",
    "plt.grid()\n",
    "plt.show()"
   ]
  }
 ],
 "metadata": {
  "kernelspec": {
   "display_name": "Python 3",
   "language": "python",
   "name": "python3"
  },
  "language_info": {
   "codemirror_mode": {
    "name": "ipython",
    "version": 3
   },
   "file_extension": ".py",
   "mimetype": "text/x-python",
   "name": "python",
   "nbconvert_exporter": "python",
   "pygments_lexer": "ipython3",
   "version": "3.9.5"
  },
  "vscode": {
   "interpreter": {
    "hash": "65527cbe1982c382ea329ff5c42d9c1956b693cd1d084cf55e36693550f2e081"
   }
  }
 },
 "nbformat": 4,
 "nbformat_minor": 2
}
