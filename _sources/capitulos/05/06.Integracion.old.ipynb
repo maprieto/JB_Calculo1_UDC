{
 "cells": [
  {
   "cell_type": "markdown",
   "metadata": {},
   "source": [
    "(sec_PythonIntegracion)=\n",
    "# Integración en **Python**\n",
    "\n",
    "En esta sección aprenderemos a integrar con `SymPy` y a aproximar integrales definidas usando `NumPy` y `SciPy`.\n",
    "\n",
    "## Integración con **SymPy**\n",
    "Para calcular exactamente la integral de una función mediante SymPy, se emplea la función *integrate*. \n",
    "Por ejemplo, para calcular una primitiva de $\\sin(x)$, escribiremos "
   ]
  },
  {
   "cell_type": "code",
   "execution_count": 1,
   "metadata": {},
   "outputs": [
    {
     "name": "stdout",
     "output_type": "stream",
     "text": [
      "Una primitiva de  sin(x)  es =  -cos(x)\n"
     ]
    }
   ],
   "source": [
    "import sympy as sp\n",
    "\n",
    "x = sp.symbols('x')\n",
    "f = sp.sin(x)\n",
    "I = sp.integrate(f,x)\n",
    "\n",
    "print('Una primitiva de ',f, ' es = ',I)"
   ]
  },
  {
   "cell_type": "markdown",
   "metadata": {},
   "source": [
    "Para calcular la integral definida $\\displaystyle\\int_0^\\pi\\sin(x)\\,dx$, escribiremos"
   ]
  },
  {
   "cell_type": "code",
   "execution_count": 2,
   "metadata": {},
   "outputs": [
    {
     "name": "stdout",
     "output_type": "stream",
     "text": [
      "La integral de  sin(x)  entre 0 y pi es =  2\n"
     ]
    }
   ],
   "source": [
    "import sympy as sp\n",
    "\n",
    "x = sp.symbols('x')\n",
    "f = sp.sin(x)\n",
    "Idef = sp.integrate(f,(x,0,sp.pi))\n",
    "\n",
    "print('La integral de ',f, ' entre 0 y pi es = ',Idef)"
   ]
  },
  {
   "cell_type": "markdown",
   "metadata": {},
   "source": [
    "`SymPy` no siempre es capaz de calcular una primitiva. En caso de no poder hacerlo, devuelve como salida la integral de partida:"
   ]
  },
  {
   "cell_type": "code",
   "execution_count": 10,
   "metadata": {},
   "outputs": [
    {
     "name": "stdout",
     "output_type": "stream",
     "text": [
      "Integral(sin(x*cos(x)), x)\n"
     ]
    }
   ],
   "source": [
    "I = sp.integrate(sp.sin(x*sp.cos(x)),x)\n",
    "print(I)"
   ]
  },
  {
   "cell_type": "markdown",
   "metadata": {},
   "source": [
    "Es posible calcular algunas integrales impropias, cuando los límites de integración son $-\\infty$ y/o $+\\infty$, es decir, integrales de la forma:\n",
    "\n",
    "$$\n",
    "\\int_{-\\infty}^bf(x)\\,dx\\,,\\quad\n",
    "\\int_{a}^{+\\infty}f(x)\\,dx\\,,\\quad\n",
    "\\int_{-\\infty}^{+\\infty}f(x)\\,dx\\,.\n",
    "$$"
   ]
  },
  {
   "cell_type": "code",
   "execution_count": 7,
   "metadata": {},
   "outputs": [
    {
     "name": "stdout",
     "output_type": "stream",
     "text": [
      "Integral de  exp(x)  entre -oo y 0 es =  1\n",
      "Integral de  x**(-2)  entre 1 y +oo es =  1\n"
     ]
    }
   ],
   "source": [
    "x = sp.symbols('x')\n",
    "f = sp.exp(x)\n",
    "I1 = sp.integrate(f,(x,-sp.oo,0))\n",
    "\n",
    "print('Integral de ',f,' entre -oo y 0 es = ',I1)\n",
    "\n",
    "g = 1/(x**2)\n",
    "I2 = sp.integrate(g,(x,1,sp.oo))\n",
    "\n",
    "print('Integral de ',g,' entre 1 y +oo es = ',I2)\n"
   ]
  },
  {
   "cell_type": "markdown",
   "metadata": {},
   "source": [
    "Si necesitamos calcular una integral impropia de segunda especie, como por ejemplo, \n",
    "\n",
    "$$\n",
    "\\int_{-1}^2\\dfrac{1}{x}\\,dx\\,,\n",
    "$$\n",
    "y hacemos:"
   ]
  },
  {
   "cell_type": "code",
   "execution_count": 18,
   "metadata": {},
   "outputs": [
    {
     "name": "stdout",
     "output_type": "stream",
     "text": [
      "La integral vale =  nan\n"
     ]
    }
   ],
   "source": [
    "h = 1/x\n",
    "I2e = sp.integrate(h,(x,-1,2))\n",
    "print('La integral vale = ', I2e)"
   ]
  },
  {
   "cell_type": "markdown",
   "metadata": {},
   "source": [
    "En este caso, para entender qué está ocurriendo, es mejor usar la definición: \n",
    "\n",
    "$$\n",
    "\\int_{-1}^2\\dfrac{1}{x}\\,dx =\\int_{-1}^0\\dfrac{1}{x}\\,dx +\\int_{0}^2\\dfrac{1}{x}\\,dx\\,,  \n",
    "$$\n",
    "donde \n",
    "\n",
    "$$\n",
    "\\int_{-1}^0\\dfrac{1}{x}\\,dx =\\lim_{b\\rightarrow 0^-}\\int_{-1}^b\\dfrac{1}{x}\\,dx\\,,\n",
    "$$\n",
    "y\n",
    "\n",
    "$$\n",
    "\\int_{0}^2\\dfrac{1}{x}\\,dx =\\lim_{a\\rightarrow 0^+}\\int_{a}^2\\dfrac{1}{x}\\,dx\\,.\n",
    "$$"
   ]
  },
  {
   "cell_type": "code",
   "execution_count": 21,
   "metadata": {},
   "outputs": [
    {
     "name": "stdout",
     "output_type": "stream",
     "text": [
      "Valor del primer límite =  -oo\n",
      "Valor del segundo límite =  oo\n",
      "La integral impropia es =  nan\n"
     ]
    }
   ],
   "source": [
    "h = 1/x\n",
    "a,b = sp.symbols('a:b', real=True)\n",
    "L1 = sp.limit(sp.integrate(h,(x,-1,b)),b,0,'-')\n",
    "L2 = sp.limit(sp.integrate(h,(x,a,2)),a,0,'+')\n",
    "print('Valor del primer límite = ', L1)\n",
    "print('Valor del segundo límite = ', L2)\n",
    "print('La integral impropia es = ',L1+L2)"
   ]
  },
  {
   "cell_type": "markdown",
   "metadata": {},
   "source": [
    "## Integración numérica con **NumPy**\n",
    "Como hemos visto, no siempre es posible calcular exactamente la integral de una función mediante SymPy.\n",
    "También puede ocurrir que la expresión de la primitiva sea demasiado costosa de evaluar o que solo conozcamos los valores de la función en un conjunto finito de puntos. En estos casos, se emplean técnicas de integración numérica.\n",
    "\n",
    "Importamos a continuación los módulos necesarios."
   ]
  },
  {
   "cell_type": "code",
   "execution_count": 3,
   "metadata": {},
   "outputs": [],
   "source": [
    "import sympy as sp\n",
    "import numpy as np\n",
    "import matplotlib.pyplot as plt\n",
    "from scipy import integrate"
   ]
  },
  {
   "cell_type": "markdown",
   "metadata": {},
   "source": [
    "Hemos visto varias fórmulas de integración numérica para aproximar una integral de la forma \n",
    "\n",
    "$$\n",
    "\\int_a^bf(x)\\,dx\n",
    "$$\n",
    "donde $a$ y $b$ son números reales. Concretamente, hemos visto las fórmulas del punto medio, del trapecio y de Simpson. \n",
    "\n",
    "La fórmula del punto medio aproxima la integral mediante\n",
    "\n",
    "$$\n",
    "\\int_a^bf(x)\\,dx\\simeq (b-a)f(\\dfrac{a+b}{2})\\,.\n",
    "$$\n",
    "\n",
    "Aproximamos a continuación la integral \n",
    "\n",
    "$$\n",
    "I=\\int_0^{\\pi}\\sin(x)\\,dx\\,,\n",
    "$$\n",
    "mediante diferentes fórmulas de cuadratura."
   ]
  },
  {
   "cell_type": "code",
   "execution_count": 2,
   "metadata": {},
   "outputs": [
    {
     "name": "stdout",
     "output_type": "stream",
     "text": [
      "Valor aproximado de I mediante la fórmula del punto medio =  3.141592653589793\n"
     ]
    }
   ],
   "source": [
    "x = sp.Symbol('x', real = True)\n",
    "\n",
    "#Aproximación por punto medio\n",
    "a = 0\n",
    "b = np.pi\n",
    "pm = (a+b)/2\n",
    "\n",
    "f_exp = sp.sin(x)\n",
    "f = sp.lambdify(x,f_exp)\n",
    "\n",
    "fpm = f(pm)\n",
    "I_aprox = (b-a) * fpm\n",
    "print('Valor aproximado de I mediante la fórmula del punto medio = ', I_aprox)"
   ]
  },
  {
   "cell_type": "markdown",
   "metadata": {},
   "source": [
    "Implementamos a continuación una función para la fórmula del trapecio simple: \n",
    "\n",
    "$$\n",
    "\\int_a^bf(x)\\,dx\\simeq \\dfrac{b-a}{2}(f(a)+f(b))\\,.\n",
    "$$"
   ]
  },
  {
   "cell_type": "code",
   "execution_count": 4,
   "metadata": {},
   "outputs": [],
   "source": [
    "def trapecio(a,b,fa,fb):\n",
    "    aprox_tr = (b-a) * (fa + fb)/2\n",
    "    return aprox_tr"
   ]
  },
  {
   "cell_type": "markdown",
   "metadata": {},
   "source": [
    "La empleamos para aproximar $I$:"
   ]
  },
  {
   "cell_type": "code",
   "execution_count": 5,
   "metadata": {},
   "outputs": [
    {
     "name": "stdout",
     "output_type": "stream",
     "text": [
      "Valor aproximado de la integral por trapecio simple =  1.9236706937217898e-16\n"
     ]
    }
   ],
   "source": [
    "x = sp.Symbol('x', real = True)\n",
    "\n",
    "a = 0\n",
    "b = np.pi\n",
    "pm = (a+b)/2\n",
    "\n",
    "f_exp = sp.sin(x)\n",
    "f = sp.lambdify(x,f_exp)\n",
    "\n",
    "fa = f(a)\n",
    "fb = f(b)\n",
    "aproximacion_trapecio = trapecio(a,b,fa,fb)\n",
    "print('Valor aproximado de la integral por trapecio simple = ', aproximacion_trapecio)"
   ]
  },
  {
   "cell_type": "markdown",
   "metadata": {},
   "source": [
    "La fórmula del trapecio está implementada en ´NumPy´, en la función *trapz*. "
   ]
  },
  {
   "cell_type": "code",
   "execution_count": 15,
   "metadata": {
    "scrolled": true
   },
   "outputs": [
    {
     "name": "stdout",
     "output_type": "stream",
     "text": [
      "Valor aproximado de I mediante la fórmula del trapecio =  1.9236706937217898e-16\n"
     ]
    }
   ],
   "source": [
    "X = np.array([a,b])\n",
    "Y = np.sin(X)\n",
    "print('Valor aproximado de I mediante la fórmula del trapecio = ', np.trapz(Y,X))"
   ]
  },
  {
   "cell_type": "markdown",
   "metadata": {},
   "source": [
    "Obtenemos valores muy diferentes con las distintas fórmulas... "
   ]
  },
  {
   "cell_type": "markdown",
   "metadata": {},
   "source": [
    "### Ejercicio 1\n",
    "Implementa una función que permita aproximar la integral definida de una función dada $f$ en un intervalo $[a,b]$ mediante la fórmula de Simpson: \n",
    "$$\n",
    "\\int_a^bf(x)\\,dx\\simeq\\dfrac{b-a}{6}(f(a)+4f(\\dfrac{a+b}{2})+f(b))\\,.\n",
    "$$\n",
    "Empléala para aproximar el valor de $I$."
   ]
  },
  {
   "cell_type": "code",
   "execution_count": 26,
   "metadata": {},
   "outputs": [],
   "source": [
    "def Simpson(a,b,fa,fpm,fb):\n",
    "    aprox_S = (b-a) /6 * (fa + 4*fpm + fb)\n",
    "    return aprox_S"
   ]
  },
  {
   "cell_type": "code",
   "execution_count": 27,
   "metadata": {},
   "outputs": [
    {
     "name": "stdout",
     "output_type": "stream",
     "text": [
      "Valor aproximado de la integral por trapecio simple =  2.0943951023931953\n"
     ]
    }
   ],
   "source": [
    "a = 0\n",
    "b = np.pi\n",
    "pm = (a+b)/2\n",
    "fa = np.sin(a)\n",
    "fb = np.sin(b)\n",
    "fpm = np.sin(pm)\n",
    "aproximacion_Simpson = Simpson(a,b,fa,fpm,fb)\n",
    "print('Valor aproximado de la integral por Simpson = ', aproximacion_Simpson)"
   ]
  },
  {
   "cell_type": "markdown",
   "metadata": {},
   "source": [
    "La fórmula de Simpson está implementada en ´SciPy´:"
   ]
  },
  {
   "cell_type": "code",
   "execution_count": 16,
   "metadata": {},
   "outputs": [
    {
     "name": "stdout",
     "output_type": "stream",
     "text": [
      "Valor aproximado de I mediante la fórmula de Simpson =  2.0943951023931953\n"
     ]
    }
   ],
   "source": [
    "X = np.array([a,(a+b)/2,b]) \n",
    "Y = np.sin(X)\n",
    "print('Valor aproximado de I mediante la fórmula de Simpson = ', integrate.simpson(Y, X))"
   ]
  },
  {
   "cell_type": "markdown",
   "metadata": {},
   "source": [
    "Para obtener una aproximación mejor, se suelen usar fórmulas compuestas. Dividimos el intervalo de partida, $[a,b]$ en $N$ subintervalos de igual liongitud, $h=(b-a)/N$. Entonces, podemos escribir\n",
    "$$\n",
    "\\int_a^bf(x)\\,dx = \\sum_{i=1}^N\\int_{x_{i-1}}^{x_i}f(x)\\,dx\\,,\n",
    "$$\n",
    "donde $x_i=a+ih$, para $i=0,\\ldots,N$.\n",
    "\n",
    "Cada una de las integrales entre $x_{i-1}$ y $x_i$ se puede aproximar por una fórmula simple. Por ejemplo, si aproximamos la integral, para cada $i=1,\\ldots,N$, mediante punto medio simple:\n",
    "$$\n",
    "\\int_{x_{i-1}}^{x_i}f(x)\\,dx\\simeq h\\,f(\\dfrac{x_{i-1}+x_i}{2})\\,,\n",
    "$$\n",
    "obtenemos la fórmula del punto medio compuesta.\n",
    "\n",
    "Implementamos a continuación esta fórmula y la empleamos para aproximar el valor de $I$ con $100$ subintervalos."
   ]
  },
  {
   "cell_type": "code",
   "execution_count": 28,
   "metadata": {},
   "outputs": [],
   "source": [
    "def pmc(a, b, f, n):\n",
    "    h = float((b-a)/n)\n",
    "    valor = 0\n",
    "    for i in range(n):\n",
    "        valor += f((a + h/2.0) + i*h)\n",
    "    valor *= h\n",
    "    return valor    "
   ]
  },
  {
   "cell_type": "code",
   "execution_count": 29,
   "metadata": {},
   "outputs": [
    {
     "name": "stdout",
     "output_type": "stream",
     "text": [
      "Valor aproximado por punto medio compuesto =  2.0000822490709864\n"
     ]
    }
   ],
   "source": [
    "a = 0\n",
    "b = np.pi\n",
    "f = np.sin\n",
    "n = 100\n",
    "aprox_pmc = pmc(a,b,f,n)\n",
    "print('Valor aproximado por punto medio compuesto = ',aprox_pmc)"
   ]
  },
  {
   "cell_type": "markdown",
   "metadata": {},
   "source": [
    "### Ejercicio 2\n",
    "Para obtener el volumen de un cono circular recto de altura $h$ y radio de la base $R$, se puede hacer girar la recta que pasa por el origen y el punto $(h,R)$ alrededor del eje $OX$ entre $x=0$ y $x=h$."
   ]
  },
  {
   "cell_type": "code",
   "execution_count": 31,
   "metadata": {},
   "outputs": [
    {
     "name": "stdout",
     "output_type": "stream",
     "text": [
      "El volumen del cono es =  pi*R**2*h/3\n"
     ]
    }
   ],
   "source": [
    "x,y = sp.symbols('x:y', real=True)\n",
    "R = sp.Symbol('R', real=True)\n",
    "h = sp.Symbol('h', real=True)\n",
    "\n",
    "y = R / h * x # Ecuación de la recta que pasa por (0,0) y (h,R)\n",
    "# Volumen de revolución\n",
    "volumen = sp.pi * sp.integrate(y*y,(x,0,h))\n",
    "print('El volumen del cono es = ',volumen)"
   ]
  },
  {
   "cell_type": "markdown",
   "metadata": {},
   "source": [
    "Representamos a continuación un cono circular recto de altura $h=6$ y radio de la base $R=3$: "
   ]
  },
  {
   "cell_type": "code",
   "execution_count": 36,
   "metadata": {},
   "outputs": [
    {
     "data": {
      "image/png": "[encoded data removed]",
      "text/plain": [
       "<Figure size 432x288 with 1 Axes>"
      ]
     },
     "metadata": {
      "needs_background": "light"
     },
     "output_type": "display_data"
    }
   ],
   "source": [
    "import matplotlib.pyplot as plt\n",
    "import mpl_toolkits.mplot3d.axes3d as axes3d\n",
    "\n",
    "fig = plt.figure()\n",
    "ax = fig.add_subplot(1, 1, 1, projection='3d')\n",
    "\n",
    "RR = 3.0 \n",
    "hh = 6.0 \n",
    "u = np.linspace(0, 6.5, 60)\n",
    "v = np.linspace(0, 6.5, 60)\n",
    "U, V = np.meshgrid(u, v)\n",
    "\n",
    "X = U\n",
    "Y1 = RR/hh*U*np.cos(V)\n",
    "Z1 = RR/hh*U*np.sin(V)\n",
    "\n",
    "ax.plot_surface(X, Y1, Z1, alpha=0.3, color='red', rstride=6, cstride=12)\n",
    "plt.show()"
   ]
  }
 ],
 "metadata": {
  "kernelspec": {
   "display_name": "Python 3.10.8 64-bit (microsoft store)",
   "language": "python",
   "name": "python3"
  },
  "language_info": {
   "codemirror_mode": {
    "name": "ipython",
    "version": 3
   },
   "file_extension": ".py",
   "mimetype": "text/x-python",
   "name": "python",
   "nbconvert_exporter": "python",
   "pygments_lexer": "ipython3",
   "version": "3.10.8"
  },
  "vscode": {
   "interpreter": {
    "hash": "f2c0f1c90395c109e1b87b1f4d6d2ea9e1b09c8587e65b0565fcfbe20df05a54"
   }
  }
 },
 "nbformat": 4,
 "nbformat_minor": 2
}
