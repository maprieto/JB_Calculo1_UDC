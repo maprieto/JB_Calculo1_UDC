{
 "cells": [
  {
   "cell_type": "markdown",
   "metadata": {},
   "source": [
    "# Boletín 2: Límites, continuidad, Lagrange y dicotomía"
   ]
  },
  {
   "cell_type": "markdown",
   "metadata": {},
   "source": [
    "1. Calcula, si es posible,\n",
    "   \n",
    "    a. $\\displaystyle{\\lim_{x\\rightarrow 0}{\\frac{|2x-1|-|2x+1|}{x}}}$,\n",
    "\n",
    "    b. $\\displaystyle{\\lim_{x\\rightarrow 0}{\\frac{\\sqrt{x^2+4}-2}{x^2}}}$,\n",
    "    \n",
    "    c. $\\displaystyle{\\lim_{x\\rightarrow 0}{\\left (\\frac{1}{x}-\\frac{1}{|x|}\\right)}}$.\n"
   ]
  },
  {
   "cell_type": "markdown",
   "metadata": {},
   "source": [
    "2. Calcula, si es posible, los siguientes límites:\n",
    "   \n",
    "$$\n",
    "\\begin{array}{lllll}\n",
    "%\\text{$(a)$ } \\displaystyle{\\lim_{x\\rightarrow -\\infty} \\mathbf{e}^x}   &\\qquad\n",
    "%\\text{$(b)$ } \\displaystyle{\\lim_{x\\rightarrow 0}       \\mathbf{e}^x}   &\\qquad\n",
    "%\\text{$(c)$ } \\displaystyle{\\lim_{x\\rightarrow +\\infty} \\mathbf{e}^x}   &\\qquad\n",
    "\\text{$a)$ } \\displaystyle{\\lim_{x\\rightarrow -\\infty} \\sqrt[3]{x}}   & \\qquad\n",
    " \\text{$b)$ } \\displaystyle{\\lim_{x\\rightarrow +\\infty} \\sqrt{x}}  &\\qquad\n",
    "\\text{$c)$ } \\displaystyle{\\lim_{x\\rightarrow 0^+}     \\sqrt{x}}   &\\qquad\n",
    "\\text{$d)$ } \\displaystyle{\\lim_{x\\rightarrow -\\infty} \\sqrt{x}}   \\\\\n",
    "\\\\\n",
    "\\text{$e)$ } \\displaystyle{\\lim_{x\\rightarrow +\\infty} \\dfrac{1}{\\sqrt{x}}}  & \\qquad\n",
    "\\text{$f)$ } \\displaystyle{\\lim_{x\\rightarrow 0^+}     \\dfrac{1}{\\sqrt{x}} }  &\\qquad\n",
    "%\\text{$j)$ } \\displaystyle{\\lim_{x\\rightarrow +\\infty} x^2}   &\\qquad\n",
    "\\text{$g)$ } \\displaystyle{\\lim_{x\\rightarrow -\\infty} x^2 }  &\\qquad\n",
    "\\text{$h)$ } \\displaystyle{\\lim_{x\\rightarrow +\\infty} \\left( x^3 - 5x^2 + 8 \\right)}\n",
    "\\end{array}\n",
    "$$"
   ]
  },
  {
   "cell_type": "markdown",
   "metadata": {},
   "source": [
    "3. El valor, en euros, de un coche $x$ años después de su adquisición (nuevo) viene dado por la función\n",
    "   \n",
    "    $$\n",
    "    v(x)=2000+\\frac{60000}{4^{0.25 x}}.\n",
    "    $$\n",
    "    \n",
    "    Se llama *valor residual* del coche a su valor límite cuando el número de años aumenta indefinidamente.\n",
    "    \n",
    "      a. ¿Cuál fue el precio de compra del vehículo nuevo?\n",
    "\n",
    "      b. ¿Cuál será su valor residual?\n",
    "\n",
    "      c. ¿Al cabo de cuántos años diferirá su valor en menos de 1000 euros del valor residual? \n",
    "    "
   ]
  },
  {
   "cell_type": "markdown",
   "metadata": {},
   "source": [
    "4. Dibuja, con `Sympy` la gráfica de la curva $y=\\sqrt{x^2+1}-x$. \n",
    "   \n",
    "    Comprueba, con lápiz y papel y comprobando los resultados en el ordenador, si esta gráfica tiene alguna asíntota y, en caso afirmativo, obtén sus ecuaciones."
   ]
  },
  {
   "cell_type": "markdown",
   "metadata": {},
   "source": [
    "5. Calcula las asíntotas de las siguientes funciones:\n",
    "\n",
    "    a. $\\displaystyle{v_{1}(x)= \\frac{3x^2-2}{4x^2 +1}}$,\n",
    "\n",
    "    b. $\\displaystyle{h(t)= \\frac{t^2+2}{t -2}}$,\n",
    "\n",
    "    c. $\\displaystyle{v_{2}(x)= \\frac{3x^2-2}{4x^2 -1}}$,   \n",
    "\n",
    "    d. $\\displaystyle{f(x)=x^\\frac{|x|}{x} + \\frac{1}{x}}$."
   ]
  },
  {
   "cell_type": "markdown",
   "metadata": {},
   "source": [
    "6. Considera la  función $f$, dada por $f(x) = \\ln(x)$.\n",
    "   \n",
    "    a. ¿Cuál es su dominio? ¿Cuál es su imagen?\n",
    "\n",
    "    b. ¿Cuánto valen $\\displaystyle{\\lim_{x\\rightarrow  +\\infty}\\ln(x)} \\,\\,$ y $\\displaystyle{\\lim_{x\\rightarrow 0^+}\\ln (x)}$?\n",
    "\n",
    "    c. ¿Existe $\\displaystyle{\\lim_{x\\rightarrow -\\infty}\\ln(x)}$? ¿Por qué?\n",
    "\n",
    "    d. ¿Posee $f$ alguna asíntota vertical? En caso afirmativo, ¿cuál es su ecuación?\n",
    "\n",
    "    e. Dibuja la gráfica de $f$.\n",
    "\n",
    "    f. Utilizando la relación entre la gráfica de una función y la de su inversa, esboza la gráfica de $g(x)=\\mathbf{e}^x$. \n",
    "    De la observación de esta gráfica deduce la existencia de una asíntota horizontal."
   ]
  },
  {
   "cell_type": "markdown",
   "metadata": {},
   "source": [
    "7. Vamos a repasar la función arco-tangente:\n",
    "\n",
    "    a. ¿Cuál es el dominio de la función $f(x)=\\arctan(x)$? ¿Y su imagen?\n",
    "\n",
    "    b. ¿Es cierto que $\\dfrac{1}{\\tan(x)} = \\arctan(x)$? ¿Por qué?\n",
    "\n",
    "    c. ¿Cuáles son los ángulos cuya tangente vale $1$?\n",
    "\n",
    "    d. ¿Es correcto decir que $\\arctan (1)=\\dfrac{\\pi}{4}+k\\pi$, $\\,k \\in \\mathbb{Z}$? ¿Por qué?\n"
   ]
  },
  {
   "cell_type": "markdown",
   "metadata": {},
   "source": [
    "8. Si la longitud de un animal $t$ días después de su nacimiento es \n",
    "\n",
    "    $$\n",
    "    \\ell(t)= \\frac{300}{1+9\\left(0.8\\right)^t}\n",
    "    $$  \n",
    "    ¿cuánto midió al nacer? Obtén una cota superior de su tamaño máximo. "
   ]
  },
  {
   "cell_type": "markdown",
   "metadata": {},
   "source": [
    "9. Elige la opción correcta: \n",
    "    \n",
    "    Para aproximar el valor de la solución de la ecuación  $x^3+2=0$ con un error menor que $0.30$ usando el algoritmo de dicotomía en el intervalo $[-2,\\,2]$:\n",
    "\n",
    "    a. debemos realizar cinco iteraciones y las cuatro primeras son $x_1=0$, $x_2=-1$, $x_3=-3/2$ y $x_4=-5/4$\n",
    "\n",
    "    b. debemos realizar cinco iteraciones y las cuatro primeras son $x_1=0$, $x_2=-1$,  $x_3=-3/2$ y $ x_4=-7/4$\n",
    "\n",
    "    c. debemos realizar cuatro iteraciones y las tres primeras son $x_1=0$, $x_2=-1$ y $x_3=-3/2$\n",
    "\n",
    "    d. debemos realizar cuatro iteraciones y las tres primeras son $x_1=0$, $x_2=-1$ y $x_3=-5/4$"
   ]
  },
  {
   "cell_type": "markdown",
   "metadata": {},
   "source": [
    "10. ¿Dónde es continua la función $f$ dada por $f(x)=\\displaystyle{\\frac{e^x+\\ln(2x)}{x^2-3}}?$"
   ]
  },
  {
   "cell_type": "markdown",
   "metadata": {},
   "source": [
    "11. Elige la opción correcta:\n",
    "\n",
    "    La función $f : \\mathbb{R} \\longrightarrow \\mathbb{R}$ dada por:\n",
    "\n",
    "    $$\n",
    "    f(x) =\n",
    "    \\begin{cases}\n",
    "    \\sqrt{{x}^{2}-1} \\,\\,\\,\\,  \\qquad\\,  \\text{  si  } x \\in (-\\infty,-1] \\\\\n",
    "                {x}^{2}+2x+1 \\qquad    \\text{si } x \\in (-1,10] \\\\\n",
    "                \\frac{121}{10}x   \\qquad\\, \\, \\, \\, \\qquad   \\text{     si   } x \\in (10,+\\infty)\n",
    "    \\end{cases}\n",
    "    $$\n",
    "\n",
    "    a. No es continua en $x=-1$\n",
    "\n",
    "    b. Es continua en $(-\\infty,\\infty)$\n",
    "\n",
    "    c. No es continua en $x=10$\n",
    "\n",
    "    d. No es continua en $x=0$\n"
   ]
  },
  {
   "cell_type": "markdown",
   "metadata": {},
   "source": [
    "12. Estudia la continuidad en $x=0$ de la función $f : \\mathbb{R} \\longrightarrow \\mathbb{R}$ dada por:\n",
    "\n",
    "    $$\n",
    "    f(x) =\n",
    "    \\begin{cases}\n",
    "    x\\mathbf{e}^{-x} \\,  \\qquad\\,\\quad  \\text{si } x < 0 \\\\\n",
    "                1 \\qquad \\qquad \\,\\,\\,\\,\\,\\,   \\text{si } x = 0 \\\\\n",
    "                \\sqrt{x^2+1}   \\qquad   \\text{si } x > 0\n",
    "    \\end{cases}\n",
    "    $$\n"
   ]
  },
  {
   "cell_type": "markdown",
   "metadata": {},
   "source": [
    "13. Si $a>1$ estudia la continuidad de la función $f : \\mathbb{R} \\longrightarrow \\mathbb{R}$ dada por:\n",
    "\n",
    "    $$\n",
    "    f(x) =\n",
    "    \\begin{cases}\n",
    "    {x}^{2} {\\cos^2(\\frac{1}{x})}   \\qquad\\,\\quad  \\text{si } x < 0 \\\\\n",
    "                0 \\qquad \\qquad \\,\\,\\,\\,\\,\\,\\,\\,\\quad   \\text{     si } x = 0 \\\\\n",
    "            \\dfrac{x {a}^{x}-x} {\\sqrt{1+x}-1}  \\qquad   \\text{si } x > 0\n",
    "    \\end{cases}\n",
    "    $$"
   ]
  }
 ],
 "metadata": {
  "kernelspec": {
   "display_name": "Python 3 (ipykernel)",
   "language": "python",
   "name": "python3"
  },
  "language_info": {
   "codemirror_mode": {
    "name": "ipython",
    "version": 3
   },
   "file_extension": ".py",
   "mimetype": "text/x-python",
   "name": "python",
   "nbconvert_exporter": "python",
   "pygments_lexer": "ipython3",
   "version": "3.9.13"
  },
  "vscode": {
   "interpreter": {
    "hash": "4253bf17849ddc6b6e8c6b6b1c64951bcfcb143729dea15b0d22aeda669b2aa2"
   }
  }
 },
 "nbformat": 4,
 "nbformat_minor": 2
}
