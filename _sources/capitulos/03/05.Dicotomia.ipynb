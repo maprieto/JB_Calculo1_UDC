{
 "cells": [
  {
   "cell_type": "markdown",
   "metadata": {},
   "source": [
    "# Método de dicotomía\n",
    "\n",
    "Consideramos una función $f:[a,b]\\rightarrow\\mathbb{R}$, continua en $[a,b]$, con $f(a)\\,f(b)<0$.\n",
    "\n",
    "Es decir, estamos considerando una funicón que cumple las hipótesis del Teorema de Bolzano, por lo que ya sabemos que existe una raíz para $f$ en el intervalo $[a,b]$. \n",
    "Una vez que sabemos que existe raíz el siguiente paso sería calcularla. Esto no siempre es sencillo (casi nunca, de hecho), y en algunos casos es directamente imposible.\n",
    "Entonces surge una segunda opción: aproximar esa raíz mediante un **método numérico**. \n",
    "\n",
    "Llegados a este punto, hay distintos métodos numéricos que nos permiten aproximar la raíz de una función. Vamos a explicar ahora el más sencillo de ellos: el **método de dicotomía**, también conocido como **método de bisección**. En el siguiente capítulo explicaremos el método de Newton-Raphson, más eficiente numéricamente.\n",
    "\n",
    "Para aproximar una raíz de $f$ en $[a,b]$, mediante dicotomía, la idea es muy sencilla: vamos dividiendo el intervalo a la mitad y nos quedamos con la mitad en la que se cumplan las hipótesis de Bolzano. \n",
    "Es decir:\n",
    "\n",
    "* Dividimos el intervalo dado a la mitad.\n",
    "* Tomamos el punto medio del intervalo, $c$, como aproximación de la raíz.\n",
    "* Comprobamos cuál de los 2 subintervalos que nos quedan ($[a,c]$ o $[c,b]$) cumple la hipótesis de Bolzano.\n",
    "* Repetimos el proceso.\n",
    "\n",
    "Si lo escribimos de forma más cercana a cómo lo programaremos, llegamos al **algoritmo de dicotomía**: \n",
    "\n",
    "* Inicializar $\\, [a_1,b_1]=[a,b]$.\n",
    "* Para $\\,k=1,2,\\ldots, N_{\\text{max}}$:\n",
    "  * Calcular $\\,x_k=\\displaystyle\\frac{a_k+b_k}{2}$.\n",
    "  * Si $\\, f(a_k)\\,f(x_k)<0$, actualizar $[a_{k+1},b_{k+1}]=[a_k,x_k]$.\n",
    "  * Si no, $[a_{k+1},b_{k+1}]=[x_k,b_k]$.\n",
    "  * Realizamos un test de parada. Si se cumple, detenemos el algoritmo.\n",
    "* Continuamos iterando.\n",
    "\n",
    "En cuanto al test de parada, lo más habitual es realizarlo en función de la diferencia relativa entre 2 iteraciones consecutivas. Sería algo así, para un parámetro de tolerancia, $tol$, generalmente indicado por el usuario:\n",
    "\n",
    "$$\n",
    "\\text{Si} \\qquad \\frac{\\left| x_{k}-x_{k-1} \\right|}{\\left| x_{k} \\right|} < tol \\quad \\Longrightarrow \\quad \\text{STOP}.\n",
    "$$\n",
    "\n",
    "**Teorema (estimación del error):** Sea $f:[a,b]\\rightarrow\\mathbb{R}$ una función continua en $[a,b]$ tal que $f(a)\\,f(b)<0$. Sea $\\alpha\\in(a,b)$ tal que $f(\\alpha)=0$.\n",
    "Entonces, al aplicar el método de dicotomía en el intervalo $[a,b]$, el error máximo cometido en el paso $k$ está acotado mediante la siguiente fórmula: \n",
    "\n",
    "$$ |x_k - \\alpha | \\leq \\frac{b-a}{2^k}.  $$ \n",
    "\n",
    "En el caso de que no nos hayáis entendido, o queráis ampliar vuestro conocimiento consultando, por ejemplo, la demostración de este último teorema, podéis acudir a la correspondiente página de la WIKIPEDIA (la versión en español, en este caso, está bastante bien, pero creemos que el algoritmo está mejor escrito en la versión inglesa, por eso incluimos ambas):\n",
    "* https://es.wikipedia.org/wiki/M%C3%A9todo_de_bisecci%C3%B3n\n",
    "* https://en.wikipedia.org/wiki/Bisection_method\n",
    "\n",
    "Nosotros seguimos, mostrándoos cómo programar este algoritmo en **Numpy**. \n",
    "\n",
    "De momento, lo escribiremos de forma directa, tal como lo hemos hecho en el algoritmo. Más adelante veremos cómo aislar parte o todo el algoritmo en una `function`, lo que nos permitirá realizaar una programación estructurada."
   ]
  },
  {
   "cell_type": "code",
   "execution_count": 4,
   "metadata": {},
   "outputs": [
    {
     "name": "stdout",
     "output_type": "stream",
     "text": [
      "Número de iteraciones realizadas:  17\n",
      "Aproximación de la raíz:  1.5707855224609375\n"
     ]
    }
   ],
   "source": [
    "import numpy as np\n",
    "import sympy as sp\n",
    "\n",
    "x = sp.symbols('x', real=True) # define la variable simbólica x\n",
    "f_expr = sp.cos(x)\n",
    "f = sp.Lambda(x,f_expr)\n",
    "\n",
    "N_max = 100\n",
    "tol = 1.e-5\n",
    "a = 0.\n",
    "b = 2.\n",
    "\n",
    "x_aprox = np.zeros(N_max)\n",
    "\n",
    "for k in range(0,N_max):\n",
    "  x_aprox[k] = (a+b) / 2\n",
    "  \n",
    "  if f(x_aprox[k]) == 0: break\n",
    "        \n",
    "  if f(a) * f(x_aprox[k]) < 0:\n",
    "     b = x_aprox[k]\n",
    "  else:\n",
    "     a = x_aprox[k]\n",
    "\n",
    "  if ( (k > 0) and (np.abs(x_aprox[k]-x_aprox[k-1]) / np.abs(x_aprox[k]) < tol) ): break\n",
    "\n",
    "print('Número de iteraciones realizadas: ', k+1) # Contamos 1 más porque empezamos el bucle en 0\n",
    "print('Aproximación de la raíz: ', x_aprox[k])\n",
    "    "
   ]
  },
  {
   "cell_type": "markdown",
   "metadata": {},
   "source": [
    "**Ejercicio:** \n",
    "\n",
    "Utiliza el método de dicotomía para aproximar la raíz de la función $f(x) = \\ln\\left(\\tan(x)\\right)$ en el intervalo $[0.1,1]$."
   ]
  },
  {
   "cell_type": "code",
   "execution_count": 78,
   "metadata": {},
   "outputs": [],
   "source": [
    "# ESCRIBE AQUÍ TU CÓDIGO"
   ]
  }
 ],
 "metadata": {
  "kernelspec": {
   "display_name": "Python 3.9.12 ('base')",
   "language": "python",
   "name": "python3"
  },
  "language_info": {
   "codemirror_mode": {
    "name": "ipython",
    "version": 3
   },
   "file_extension": ".py",
   "mimetype": "text/x-python",
   "name": "python",
   "nbconvert_exporter": "python",
   "pygments_lexer": "ipython3",
   "version": "3.9.12"
  },
  "vscode": {
   "interpreter": {
    "hash": "4253bf17849ddc6b6e8c6b6b1c64951bcfcb143729dea15b0d22aeda669b2aa2"
   }
  }
 },
 "nbformat": 4,
 "nbformat_minor": 2
}
