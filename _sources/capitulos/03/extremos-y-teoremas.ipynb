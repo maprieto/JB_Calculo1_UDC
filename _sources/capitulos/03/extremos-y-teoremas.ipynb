{
 "cells": [
  {
   "cell_type": "markdown",
   "metadata": {},
   "source": [
    "## Extremos relativos y absolutos\n",
    "\n",
    "Supongamos un intervalo abierto $A \\subset \\mathbb{R}$ y una aplicación $f : A \\longrightarrow \\mathbb{R}$.\n",
    "\n",
    "**Definición.** Decimos que $f$ presenta un **máximo relativo** en $a \\in A$ si y sólo si existe $h > 0$ tal que\n",
    "\\begin{equation*}\n",
    "f(x) \\leq f(a) , \\quad \\forall x \\in (a-h,a+h) \\, .\n",
    "\\end{equation*}\n",
    "Análogamente, decimos que $f$ presenta un **m\\'{i}nimo relativo** en $a \\in A$ si y sólo si existe $h > 0$ tal que:\n",
    "\\begin{equation*}\n",
    "f(x) \\geq f(a) , \\quad \\forall x \\in (a-h,a+h) \\, .\n",
    "\\end{equation*}\n",
    "Por extremo relativo entendemos, indistintamente, un máximo o un mínimo relativo.\n"
   ]
  },
  {
   "cell_type": "markdown",
   "metadata": {},
   "source": [
    "Se denomina supremo e ínfimo de $f$ en $A$, respectivamente, a las cantidades:\n",
    "\\begin{equation*}\n",
    "\\underset{x \\in A}{\\sup} f(x) \\quad \\quad \\text{ e } \\quad \\quad \n",
    "\\underset{x \\in A}{\\inf} f(x) \\, , \n",
    "\\end{equation*}\n",
    "es decir, al supremo e ínfimo del conjunto imagen $f(A)$.\n",
    "\n",
    "Cuando el supremo o el ínfimo de $f$ en $A$ existen y pertenecen a $f(A)$, se denominan **m\\'{a}ximo absoluto** y **mínimo absoluto** de $f$ en $A$, respectivamente.  El máximo y el mínimo absoluto se denominan, globalmente, extremos absolutos.\n",
    "\n",
    "**Teorema.** Si $f$ presenta un extremo relativo en el punto $a \\in A$ y $f$ es derivable en\n",
    "dicho punto, entonces $f'(a) = 0$.\n",
    "\n",
    "**Observación.** La condición anterior es necesaria, pero no suficiente: la función puede presentar derivada nula en un punto, pero no tener un extremo en él.   Por ejemplo, la función $f(x) = x^3$ verifica $f'(0) = 0$, pero no se trata de un máximo ni de un mínimo.\n",
    "\n",
    "**Definición.** Si en un punto $a$ se tiene $f'(a) = 0$, decimos que $a$ es un **punto estacionario** (o **crítico**) de la función $f$.\n",
    "\n",
    "Para encontrar los extremos (máximos y mínimos) absolutos de una función en un intervalo cerrado $[a,b]$, debemos estudiar:\n",
    "- los puntos $x$ donde $f$ es derivable y $f'(x) = 0$\n",
    "- los puntos donde $f$ no es derivable\n",
    "- los extremos ($a$ y $b$) del intervalo."
   ]
  },
  {
   "cell_type": "markdown",
   "metadata": {},
   "source": [
    "**Teorema de Rolle.**\n",
    "Sea una aplicación $f : [a,b] \\longrightarrow \\mathbb{R}$, continua en $[a,b]$ y derivable en $(a,b)$.  Si $f(a) = f(b)$, entonces existe un punto $\\xi \\in (a,b)$ tal que:\n",
    "\\begin{equation*}\n",
    "f^{\\prime} (\\xi) = 0 \\, .\n",
    "\\end{equation*}\n",
    "![Teorema de Rolle](./rolle.png)\n",
    "\n",
    "**Teorema de Cauchy, o del valor medio generalizado.**\n",
    "Sean dos aplicaciones $f, g : [a,b] \\rightarrow \\mathbb{R}$ continuas en $[a,b]$ y derivables en $(a,b)$.  Entonces existe un punto $\\xi \\in (a,b)$ tal que:\n",
    "\\begin{equation*}\n",
    "\\left[ f(b) - f(a) \\right] g' (\\xi) = f' (\\xi) \\left[ g(b) - g(a) \\right] \\, .\n",
    "\\end{equation*}\n",
    "\n",
    "**Teorema de Lagrange, o del valor medio , o de los incrementos finitos.**\n",
    "Sea una aplicaci\\'{o}n $f : [a,b] \\longrightarrow \\mathbb{R}$ continua en $[a,b]$ y derivable en $(a,b)$.  Entonces, existe un punto $\\xi \\in (a,b)$ tal que:\n",
    "\\begin{equation*}\n",
    "f(b) - f(a) = f' (\\xi) (b - a) \\, .\n",
    "\\end{equation*}\n",
    "![Teorema de Lagrange](./lagrange.png)\n"
   ]
  },
  {
   "cell_type": "markdown",
   "metadata": {},
   "source": [
    "## Aplicaciones inmediatas de la derivación de funciones\n",
    "\n",
    "Sea $f$ una función real derivable en $(a,b)$.\n",
    "- Si $f' (x) \\geq 0$, $\\forall x \\in (a,b)$, entonces $f$ es monótona creciente.\n",
    "- Si $f' (x) \\leq 0$, $\\forall x \\in (a,b)$, entonces $f$ es monótona decreciente.\n",
    "- Si $f' (x) = 0$, $\\forall x \\in (a,b)$, entonces $f$ es constante.\n",
    "- Si $f' (x) \\neq 0$, $\\forall x \\in (a,b)$, entonces $f$ es inyectiva.\n",
    "\n",
    "El signo de $f'$ puede utilizarse para determinar el carácter de máximo o mínimo de un punto estacionario: si $f$\n",
    "presenta en $a$ un máximo relativo y es continua en $(a - \\delta , a + \\delta)$, entonces\n",
    "\\begin{equation*}\n",
    "\\begin{cases}\n",
    "f' (x) > 0 , \\quad \\text{si } x < a \\\\\n",
    "f' (x) < 0 , \\quad \\text{si } x > a\n",
    "\\end{cases}\n",
    "\\end{equation*}\n",
    "y lo contrario si $f$ presenta un mínimo.\n",
    "\n"
   ]
  },
  {
   "cell_type": "code",
   "execution_count": null,
   "metadata": {},
   "outputs": [],
   "source": []
  }
 ],
 "metadata": {
  "kernelspec": {
   "display_name": "Python 3",
   "language": "python",
   "name": "python3"
  },
  "language_info": {
   "codemirror_mode": {
    "name": "ipython",
    "version": 3
   },
   "file_extension": ".py",
   "mimetype": "text/x-python",
   "name": "python",
   "nbconvert_exporter": "python",
   "pygments_lexer": "ipython3",
   "version": "3.8.10"
  }
 },
 "nbformat": 4,
 "nbformat_minor": 4
}
